{
 "cells": [
  {
   "cell_type": "code",
   "execution_count": null,
   "id": "21d58a45-31e2-4091-ad35-6901800b992b",
   "metadata": {},
   "outputs": [],
   "source": []
  },
  {
   "cell_type": "markdown",
   "id": "98b14b9c-33c4-4fb2-bc5f-4b2f61159687",
   "metadata": {},
   "source": [
    "download hydrobasins data and pick the right catchements\n",
    "\n",
    "* if the catchment is NOT endoreic then you should see where water comes from that leads into MBO catchment\n",
    "* plot catchement, and possible connected catchments, on a map"
   ]
  },
  {
   "cell_type": "code",
   "execution_count": null,
   "id": "31e68eaf-b363-49f6-9c25-318a1e5b35e7",
   "metadata": {},
   "outputs": [],
   "source": []
  },
  {
   "cell_type": "markdown",
   "id": "7739354c-5765-4734-851a-3f36adb09282",
   "metadata": {},
   "source": [
    "download era5-land data (precipitation, temperature) for January 2019 - March 2020\n",
    "\n",
    "* plot cumulative precipitation for hydrophone/geophone deployment\n",
    "* plot daily temperature for hydrophone/geophone deployment\n",
    "* plot map of precipitation\n",
    "* plot map of temperatureg"
   ]
  },
  {
   "cell_type": "code",
   "execution_count": null,
   "id": "3f3d502f-6553-4095-8958-1b471e2b822f",
   "metadata": {},
   "outputs": [],
   "source": []
  },
  {
   "cell_type": "markdown",
   "id": "88da69be-6691-43fc-bd99-eb1564487aa7",
   "metadata": {},
   "source": [
    "check the global surface water data if there is water in the river basin that is nearby...na"
   ]
  },
  {
   "cell_type": "code",
   "execution_count": null,
   "id": "2367af0b-b9d6-47f3-8402-1cb092cdd98c",
   "metadata": {},
   "outputs": [],
   "source": []
  }
 ],
 "metadata": {
  "kernelspec": {
   "display_name": "Python 3 (ipykernel)",
   "language": "python",
   "name": "python3"
  },
  "language_info": {
   "codemirror_mode": {
    "name": "ipython",
    "version": 3
   },
   "file_extension": ".py",
   "mimetype": "text/x-python",
   "name": "python",
   "nbconvert_exporter": "python",
   "pygments_lexer": "ipython3",
   "version": "3.11.5"
  }
 },
 "nbformat": 4,
 "nbformat_minor": 5
}
